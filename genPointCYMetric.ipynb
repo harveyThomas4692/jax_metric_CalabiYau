{
 "cells": [
  {
   "cell_type": "code",
   "execution_count": 1,
   "metadata": {},
   "outputs": [],
   "source": [
    "import numpy as np\n",
    "import os as os\n",
    "import pickle as pickle\n",
    "\n",
    "from cymetric.pointgen.pointgen import PointGenerator"
   ]
  },
  {
   "cell_type": "code",
   "execution_count": 2,
   "metadata": {},
   "outputs": [],
   "source": [
    "monomials = 5*np.eye(5, dtype=np.int64)\n",
    "coefficients = np.ones(5)\n",
    "kmoduli = np.ones(1)\n",
    "ambient = np.array([4])"
   ]
  },
  {
   "cell_type": "code",
   "execution_count": 3,
   "metadata": {},
   "outputs": [
    {
     "name": "stdout",
     "output_type": "stream",
     "text": [
      "(100005, 5)\n"
     ]
    }
   ],
   "source": [
    "with open(\"cyMetPoints100kQuintic.pkl\", \"rb\") as f:\n",
    "    points = pickle.load(f)\n",
    "\n",
    "\n",
    "print(np.shape(points))"
   ]
  },
  {
   "cell_type": "code",
   "execution_count": 4,
   "metadata": {},
   "outputs": [],
   "source": [
    "pg = PointGenerator(monomials, coefficients, kmoduli, ambient)\n",
    "\n",
    "# points = pg.generate_points(100000)\n",
    "# points"
   ]
  },
  {
   "cell_type": "code",
   "execution_count": 5,
   "metadata": {},
   "outputs": [
    {
     "data": {
      "text/plain": [
       "array([[ 0.        +0.j        ,  1.        +0.j        ,\n",
       "         0.        +0.j        ,  0.        +0.j        ,\n",
       "         0.06563085+0.22746897j],\n",
       "       [ 0.        +0.j        ,  0.        +0.j        ,\n",
       "         1.        +0.j        ,  0.        +0.j        ,\n",
       "        -0.1869518 +0.26717698j],\n",
       "       [ 0.        +0.j        ,  0.        +0.j        ,\n",
       "         0.        +0.j        ,  1.        +0.j        ,\n",
       "        -0.25628094+0.13733211j]])"
      ]
     },
     "execution_count": 5,
     "metadata": {},
     "output_type": "execute_result"
    }
   ],
   "source": [
    "pg.pullbacks(points)[-1]"
   ]
  },
  {
   "cell_type": "code",
   "execution_count": 6,
   "metadata": {},
   "outputs": [
    {
     "data": {
      "text/plain": [
       "array([[ 0.09262875+0.j        ,  0.01393526-0.00429549j,\n",
       "         0.01329817+0.00219515j, -0.00605092-0.01217634j,\n",
       "        -0.00464539-0.00573696j],\n",
       "       [ 0.01393526+0.00429549j,  0.0683861 +0.j        ,\n",
       "        -0.02571036-0.01282157j,  0.00468029+0.02860292j,\n",
       "         0.0058605 +0.0146032j ],\n",
       "       [ 0.01329817-0.00219515j, -0.02571036+0.01282157j,\n",
       "         0.07291509+0.j        ,  0.01566953+0.02172792j,\n",
       "         0.01087104+0.00966144j],\n",
       "       [-0.00605092+0.01217634j,  0.00468029-0.02860292j,\n",
       "         0.01566953-0.02172792j,  0.07244484+0.j        ,\n",
       "        -0.01432017+0.00319397j],\n",
       "       [-0.00464539+0.00573696j,  0.0058605 -0.0146032j ,\n",
       "         0.01087104-0.00966144j, -0.01432017-0.00319397j,\n",
       "         0.09150417+0.j        ]])"
      ]
     },
     "execution_count": 6,
     "metadata": {},
     "output_type": "execute_result"
    }
   ],
   "source": [
    "pg.fubini_study_metrics(points)[0]"
   ]
  },
  {
   "cell_type": "code",
   "execution_count": 11,
   "metadata": {},
   "outputs": [
    {
     "ename": "KeyError",
     "evalue": "'DZDZB_n0'",
     "output_type": "error",
     "traceback": [
      "\u001b[0;31m---------------------------------------------------------------------------\u001b[0m",
      "\u001b[0;31mKeyError\u001b[0m                                  Traceback (most recent call last)",
      "Cell \u001b[0;32mIn[11], line 1\u001b[0m\n\u001b[0;32m----> 1\u001b[0m \u001b[43mpg\u001b[49m\u001b[38;5;241;43m.\u001b[39;49m\u001b[43m_pullbacks_dzdz\u001b[49m\u001b[43m(\u001b[49m\u001b[43mpoints\u001b[49m\u001b[43m[\u001b[49m\u001b[38;5;241;43m-\u001b[39;49m\u001b[38;5;241;43m1\u001b[39;49m\u001b[43m:\u001b[49m\u001b[43m]\u001b[49m\u001b[43m)\u001b[49m[\u001b[38;5;241m-\u001b[39m\u001b[38;5;241m1\u001b[39m]\n",
      "File \u001b[0;32m~/cymetric/lib/python3.10/site-packages/cymetric/pointgen/pointgen.py:1283\u001b[0m, in \u001b[0;36mPointGenerator._pullbacks_dzdz\u001b[0;34m(self, points, j_elim)\u001b[0m\n\u001b[1;32m   1280\u001b[0m dQdz_indices \u001b[38;5;241m=\u001b[39m np\u001b[38;5;241m.\u001b[39mrepeat(dQdz_indices, nrepeat)\n\u001b[1;32m   1282\u001b[0m \u001b[38;5;66;03m# compute everything\u001b[39;00m\n\u001b[0;32m-> 1283\u001b[0m numerators \u001b[38;5;241m=\u001b[39m \u001b[38;5;28;43mself\u001b[39;49m\u001b[38;5;241;43m.\u001b[39;49m\u001b[43mBASIS\u001b[49m\u001b[43m[\u001b[49m\u001b[38;5;124;43m'\u001b[39;49m\u001b[38;5;124;43mDZDZB_n0\u001b[39;49m\u001b[38;5;124;43m'\u001b[39;49m\u001b[43m]\u001b[49m[dQdz_indices, z_indices]\n\u001b[1;32m   1284\u001b[0m num_factors \u001b[38;5;241m=\u001b[39m \u001b[38;5;28mself\u001b[39m\u001b[38;5;241m.\u001b[39mBASIS[\u001b[38;5;124m'\u001b[39m\u001b[38;5;124mDZDZF_n0\u001b[39m\u001b[38;5;124m'\u001b[39m][dQdz_indices, z_indices]\n\u001b[1;32m   1285\u001b[0m denominators \u001b[38;5;241m=\u001b[39m \u001b[38;5;28mself\u001b[39m\u001b[38;5;241m.\u001b[39mBASIS[\u001b[38;5;124m'\u001b[39m\u001b[38;5;124mDZDZB_d0\u001b[39m\u001b[38;5;124m'\u001b[39m][dQdz_indices, z_indices]\n",
      "\u001b[0;31mKeyError\u001b[0m: 'DZDZB_n0'"
     ]
    }
   ],
   "source": [
    "pg._pullbacks_dzdz(points[-1:])[-1]"
   ]
  }
 ],
 "metadata": {
  "kernelspec": {
   "display_name": "cymetric",
   "language": "python",
   "name": "cymetric"
  },
  "language_info": {
   "codemirror_mode": {
    "name": "ipython",
    "version": 3
   },
   "file_extension": ".py",
   "mimetype": "text/x-python",
   "name": "python",
   "nbconvert_exporter": "python",
   "pygments_lexer": "ipython3",
   "version": "3.10.15"
  }
 },
 "nbformat": 4,
 "nbformat_minor": 2
}

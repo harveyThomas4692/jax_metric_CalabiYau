{
 "cells": [
  {
   "cell_type": "code",
   "execution_count": 1,
   "metadata": {},
   "outputs": [],
   "source": [
    "import jax\n",
    "import jax.numpy as jnp\n",
    "from jax import jit\n",
    "import numpy as np\n",
    "import optax\n",
    "from flax import linen as nn\n",
    "from flax.training import train_state\n",
    "from tqdm import tqdm\n",
    "import pickle\n",
    "import matplotlib.pyplot as plt\n",
    "import itertools\n",
    "\n",
    "import jaxmetric as jm\n",
    "import models"
   ]
  },
  {
   "cell_type": "code",
   "execution_count": 2,
   "metadata": {},
   "outputs": [],
   "source": [
    "key = jax.random.PRNGKey(0)\n",
    "\n",
    "psi=0\n",
    "\n",
    "k_mod = [1,1,1,1]\n",
    "\n",
    "proj_facts = (1,1,1,1,)\n",
    "\n",
    "# poly = jit(lambda x: x[0]**5 + x[1]**5 + x[2]**5 +x[3]**5 + x[4]**5 + psi* x[0]*x[1]*x[2]*x[3]*x[4])\n",
    "\n",
    "psi0 = 0.5\n",
    "psi1 = 1.\n",
    "\n",
    "combinations = list(itertools.product([0, 1], repeat=4))\n",
    "\n",
    "@jit\n",
    "def poly(x):\n",
    "    X = jnp.array([x[0],x[1]])\n",
    "    Y = jnp.array([x[2],x[3]])\n",
    "    U = jnp.array([x[4],x[5]])\n",
    "    V = jnp.array([x[6],x[7]])\n",
    "    term_sum = 0\n",
    "    term_prod = psi1 * (X[0] * Y[0] * U[0] * V[0]) * (X[1] * Y[1] * U[1] * V[1])\n",
    "    for c in combinations:\n",
    "        s = sum(c)\n",
    "        term_sum += (1-s%2)*(X[c[0]] * Y[c[1]] * U[c[2]] * V[c[3]])**2. + psi0*(s%2)*(X[c[0]] * Y[c[1]] * U[c[2]] * V[c[3]])**2.\n",
    "\n",
    "    return term_prod + term_sum"
   ]
  },
  {
   "cell_type": "code",
   "execution_count": 3,
   "metadata": {},
   "outputs": [
    {
     "name": "stdout",
     "output_type": "stream",
     "text": [
      "(100000, 8)\n"
     ]
    }
   ],
   "source": [
    "# points = jm.point_gen.generate_points_calabi_yau(key, proj_facts,poly,1e5)\n",
    "\n",
    "\n",
    "# with open(\"100kPointsTQ.pkl\", \"wb\") as f:\n",
    "#     pickle.dump(points, f)\n",
    "\n",
    "\n",
    "with open(\"100kPointsTQ.pkl\", \"rb\") as f:\n",
    "    points = pickle.load(f)\n",
    "\n",
    "\n",
    "print(jnp.shape(points))"
   ]
  },
  {
   "cell_type": "code",
   "execution_count": 4,
   "metadata": {},
   "outputs": [
    {
     "name": "stdout",
     "output_type": "stream",
     "text": [
      "1.0145104\n"
     ]
    }
   ],
   "source": [
    "# Initialize the model\n",
    "model = models.FuncQuintic()\n",
    "\n",
    "# Generate a PRNG key\n",
    "key = jax.random.PRNGKey(np.random.randint(0,10**6))\n",
    "\n",
    "# Initialize parameters\n",
    "params = model.init(key,  jm.complex_numbers.complex_to_real(points[0]))\n",
    "\n",
    "kappa_val = jm.metrics.kappa(proj_facts,k_mod, poly, points)\n",
    "\n",
    "print(kappa_val)"
   ]
  },
  {
   "cell_type": "code",
   "execution_count": 5,
   "metadata": {},
   "outputs": [
    {
     "data": {
      "text/plain": [
       "((1000, 8), 80)"
      ]
     },
     "execution_count": 5,
     "metadata": {},
     "output_type": "execute_result"
    }
   ],
   "source": [
    "# Split points into training and evaluation sets\n",
    "split_ratio = 0.8\n",
    "split_index = int(len(points) * split_ratio)\n",
    "train_points = points[:split_index]\n",
    "eval_points = points[split_index:]\n",
    "\n",
    "def batch_data(data, batch_size):\n",
    "    num_batches = len(data) // batch_size\n",
    "    return jnp.array_split(data[:num_batches * batch_size], num_batches)\n",
    "\n",
    "ptsBatched = batch_data(train_points, 1000)\n",
    "\n",
    "ptsBatched[0].shape,len(ptsBatched)"
   ]
  },
  {
   "cell_type": "code",
   "execution_count": null,
   "metadata": {},
   "outputs": [],
   "source": [
    "jm.metrics.ricci_curvature_amb(model, params, proj_facts, k_mod,jnp.array([ptsBatched[0][0]]))"
   ]
  },
  {
   "cell_type": "code",
   "execution_count": 8,
   "metadata": {},
   "outputs": [
    {
     "data": {
      "text/plain": [
       "Array([[[-0.57528716+1.4901161e-08j,  0.75774753+4.4981232e-01j,\n",
       "         -0.0228853 -1.4766160e-01j],\n",
       "        [ 0.7577472 -4.4981238e-01j, -1.1380713 -5.4133125e-08j,\n",
       "         -0.13892394+1.3258277e-02j],\n",
       "        [-0.02288543+1.4766172e-01j, -0.13892415-1.3258629e-02j,\n",
       "         -0.6503812 -4.4703484e-08j]],\n",
       "\n",
       "       [[-1.0465668 -7.4505806e-07j,  3.3786218 -1.4118820e+00j,\n",
       "          0.19527313-1.8382950e-01j],\n",
       "        [ 3.3786209 +1.4118824e+00j, 12.076309  +1.1324883e-06j,\n",
       "          0.69187653+2.7741230e-01j],\n",
       "        [ 0.19527242+1.8382935e-01j,  0.6918765 -2.7741250e-01j,\n",
       "         -0.61044264-1.1175871e-07j]],\n",
       "\n",
       "       [[-5.379967  +1.8477440e-06j, -1.7058961 +5.7487857e-01j,\n",
       "         -0.6574752 +9.3903774e-01j],\n",
       "        [-1.7058958 -5.7487887e-01j, -0.4789098 +2.2351742e-08j,\n",
       "          0.20455322-7.9332061e-02j],\n",
       "        [-0.657475  -9.3903732e-01j,  0.20455323+7.9332069e-02j,\n",
       "         -0.42144173+3.3527613e-08j]],\n",
       "\n",
       "       ...,\n",
       "\n",
       "       [[ 0.3801148 -1.0430813e-07j,  0.10419548-1.3340023e+00j,\n",
       "         -0.6247778 -7.0349944e-01j],\n",
       "        [ 0.10419558+1.3340024e+00j, -1.1156737 +8.9406967e-08j,\n",
       "         -0.7504938 -3.2217023e-01j],\n",
       "        [-0.6247775 +7.0349896e-01j, -0.75049376+3.2217082e-01j,\n",
       "         -0.7365666 -7.4505806e-09j]],\n",
       "\n",
       "       [[-3.9525354 +3.6880374e-07j, -1.6102126 -1.7507614e-01j,\n",
       "          2.8474145 -2.4141653e+00j],\n",
       "        [-1.6102134 +1.7507431e-01j, -8.808898  -9.3877316e-07j,\n",
       "         -5.6373706 -2.8156254e+00j],\n",
       "        [ 2.8474157 +2.4141653e+00j, -5.6373725 +2.8156257e+00j,\n",
       "         -9.550517  +1.4752150e-06j]],\n",
       "\n",
       "       [[-0.5551501 -1.8440187e-07j,  0.26995406-2.3129098e+00j,\n",
       "          0.9018995 -1.2763562e+00j],\n",
       "        [ 0.2699541 +2.3129098e+00j,  3.844956  -2.2351742e-07j,\n",
       "          0.7905369 +5.0423396e-01j],\n",
       "        [ 0.9018999 +1.2763566e+00j,  0.7905373 -5.0423431e-01j,\n",
       "          0.12756549+7.8231096e-08j]]], dtype=complex64)"
      ]
     },
     "execution_count": 8,
     "metadata": {},
     "output_type": "execute_result"
    }
   ],
   "source": [
    "jm.metrics.cy_metric(model, params,proj_facts,k_mod,poly, ptsBatched[0])"
   ]
  },
  {
   "cell_type": "code",
   "execution_count": 6,
   "metadata": {},
   "outputs": [],
   "source": [
    "def replace_nan_grads(gradients, replacement_value=1e-8):\n",
    "    def replace(grad):\n",
    "        return jnp.where(jnp.isnan(grad), replacement_value, grad)\n",
    "    \n",
    "    return jax.tree_util.tree_map(replace, gradients)\n",
    "\n",
    "def nan_replacement_transform(replacement_value=1e-6):\n",
    "    def init_fn(params):\n",
    "        return ()\n",
    "    \n",
    "    def update_fn(updates, state, params=None):\n",
    "        sanitized_updates = jax.tree_util.tree_map(\n",
    "            lambda g: jnp.where(jnp.isnan(g), replacement_value, g),\n",
    "            updates\n",
    "        )\n",
    "        return sanitized_updates, state\n",
    "    \n",
    "    return optax.GradientTransformation(init_fn, update_fn)\n",
    "\n",
    "optimiser = optax.chain(\n",
    "nan_replacement_transform(1e-8),\n",
    "optax.clip(1.),\n",
    "#optax.clip_by_block_rms(1e-2),\n",
    "optax.adam(learning_rate=1e-2)\n",
    ")\n",
    "\n",
    "my_state = train_state.TrainState.create(\n",
    "    apply_fn=model.apply,\n",
    "    params=params,\n",
    "    tx=optimiser)\n",
    "\n",
    "grad_func = jax.jit(jax.value_and_grad(jm.losses.loss_ma,argnums=1),static_argnums=(0,2,4))\n",
    "\n",
    "# Define the training step\n",
    "@jax.jit\n",
    "def train_step(state,x):\n",
    "  loss, grads = grad_func(model, state.params,proj_facts,k_mod, poly,  kappa_val, x)\n",
    "  state = state.apply_gradients(grads=grads)\n",
    "  return state, loss\n",
    "\n",
    "@jax.jit\n",
    "def evaluate_step(state,x):\n",
    "  return jm.losses.loss_ma(model, state.params,proj_facts,k_mod, poly, kappa_val, x)"
   ]
  },
  {
   "cell_type": "code",
   "execution_count": 8,
   "metadata": {},
   "outputs": [
    {
     "name": "stderr",
     "output_type": "stream",
     "text": [
      "Last Eval Loss 0.2662288546562195 | Batch 81/81  | Batch Loss: 0.26235729455947876: 100%|██████████| 10/10 [02:40<00:00, 16.05s/it]\n"
     ]
    }
   ],
   "source": [
    "# Train the model\n",
    "eval = evaluate_step(my_state,eval_points)\n",
    "loss = []\n",
    "lossEval = []\n",
    "pbar = tqdm(range(10))\n",
    "batchNum = len(ptsBatched)\n",
    "pbar.set_description(f\"Last Eval Loss {eval} | Batch {0}/{batchNum+1}  | Batch Loss: NA\")\n",
    "\n",
    "for i in pbar:\n",
    "  order = np.array(range(batchNum))\n",
    "  np.random.shuffle(order)\n",
    "  k=1\n",
    "  for j in order:\n",
    "    k+=1\n",
    "    my_state, l = train_step(my_state, ptsBatched[j])\n",
    "    pbar.set_description(f\"Last Eval Loss {eval} | Batch {k}/{batchNum+1}  | Batch Loss: {l}\" )\n",
    "    loss.append(l)\n",
    "  eval = evaluate_step(my_state,eval_points)\n",
    "  lossEval.append([(i+1)*batchNum,eval])\n",
    "\n",
    "lossEval = np.array(lossEval)\n",
    "loss = jnp.array(loss)"
   ]
  },
  {
   "cell_type": "code",
   "execution_count": 9,
   "metadata": {},
   "outputs": [],
   "source": [
    "lossEval=jnp.array(lossEval)\n",
    "loss = jnp.array(loss)"
   ]
  },
  {
   "cell_type": "code",
   "execution_count": 10,
   "metadata": {},
   "outputs": [
    {
     "data": {
      "image/png": "[encoded data removed]",
      "text/plain": [
       "<Figure size 640x480 with 1 Axes>"
      ]
     },
     "metadata": {},
     "output_type": "display_data"
    }
   ],
   "source": [
    "plt.plot((loss[2:]))\n",
    "plt.plot(lossEval[1:,0],(lossEval[1:,1]))\n",
    "plt.xscale('log')\n",
    "plt.yscale('log')\n",
    "plt.show()"
   ]
  },
  {
   "cell_type": "code",
   "execution_count": null,
   "metadata": {},
   "outputs": [],
   "source": []
  }
 ],
 "metadata": {
  "kernelspec": {
   "display_name": "jaxVenv",
   "language": "python",
   "name": "jaxvenv"
  },
  "language_info": {
   "codemirror_mode": {
    "name": "ipython",
    "version": 3
   },
   "file_extension": ".py",
   "mimetype": "text/x-python",
   "name": "python",
   "nbconvert_exporter": "python",
   "pygments_lexer": "ipython3",
   "version": "3.11.10"
  }
 },
 "nbformat": 4,
 "nbformat_minor": 2
}

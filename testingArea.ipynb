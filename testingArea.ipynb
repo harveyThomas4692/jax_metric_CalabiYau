{
 "cells": [
  {
   "cell_type": "code",
   "execution_count": 1,
   "metadata": {},
   "outputs": [],
   "source": [
    "import jax\n",
    "import jax.numpy as jnp\n",
    "import numpy as np\n",
    "import optax\n",
    "from flax import linen as nn\n",
    "from flax.training import train_state\n",
    "from tqdm import tqdm\n",
    "import pickle\n",
    "import matplotlib.pyplot as plt\n",
    "\n",
    "from JaxMetric import *"
   ]
  },
  {
   "cell_type": "code",
   "execution_count": 2,
   "metadata": {},
   "outputs": [
    {
     "name": "stdout",
     "output_type": "stream",
     "text": [
      "[[-0.81534946  0.5789691 ]\n",
      " [-0.2404555  -0.97066015]\n",
      " [-0.9451642  -0.32659552]\n",
      " [-0.750673   -0.6606739 ]\n",
      " [ 0.79028755  0.6127361 ]]\n"
     ]
    }
   ],
   "source": [
    "key = jax.random.PRNGKey(0)\n",
    "p = generate_points_sphere(key, 1,5)\n",
    "print(p)"
   ]
  },
  {
   "cell_type": "code",
   "execution_count": 3,
   "metadata": {},
   "outputs": [
    {
     "name": "stdout",
     "output_type": "stream",
     "text": [
      "[[ 0.6798248 -0.6248804j  -0.38332772-0.02055607j]\n",
      " [ 0.76029915-0.5923778j  -0.24748078-0.09892943j]\n",
      " [ 0.13312362+0.70517474j -0.40999725+0.5629466j ]\n",
      " [-0.3687295 -0.3816952j   0.3648524 +0.7650033j ]\n",
      " [-0.03083128+0.28070927j  0.9370518 -0.20539197j]]\n"
     ]
    }
   ],
   "source": [
    "p = generate_points_projective(key, 1,5)\n",
    "print(p)"
   ]
  },
  {
   "cell_type": "code",
   "execution_count": 4,
   "metadata": {},
   "outputs": [
    {
     "data": {
      "text/plain": [
       "[<function metric_functions.point_generation.generate_random_lines_projective.<locals>.<listcomp>.<lambda>(t)>,\n",
       " <function metric_functions.point_generation.generate_random_lines_projective.<locals>.<listcomp>.<lambda>(t)>,\n",
       " <function metric_functions.point_generation.generate_random_lines_projective.<locals>.<listcomp>.<lambda>(t)>,\n",
       " <function metric_functions.point_generation.generate_random_lines_projective.<locals>.<listcomp>.<lambda>(t)>,\n",
       " <function metric_functions.point_generation.generate_random_lines_projective.<locals>.<listcomp>.<lambda>(t)>]"
      ]
     },
     "execution_count": 4,
     "metadata": {},
     "output_type": "execute_result"
    }
   ],
   "source": [
    "generate_random_lines_projective(key, 3, 5)"
   ]
  },
  {
   "cell_type": "code",
   "execution_count": 5,
   "metadata": {},
   "outputs": [],
   "source": [
    "psi=0\n",
    "\n",
    "poly = lambda x: x[0]**5 + x[1]**5 + x[2]**5 +x[3]**5 + x[4]**5 + psi* x[0]*x[1]*x[2]*x[3]*x[4]"
   ]
  },
  {
   "cell_type": "code",
   "execution_count": 6,
   "metadata": {},
   "outputs": [
    {
     "data": {
      "text/plain": [
       "[Array([[[ 0.40695593+0.14544626j,  0.62898886-0.03359367j,\n",
       "           0.13748665+0.18117277j,  0.07533224+0.25840548j,\n",
       "          -0.06555051-0.5366614j ],\n",
       "         [-0.24804682-0.2522652j , -0.21257028+0.29981303j,\n",
       "          -0.24279684-0.5452278j ,  0.5165213 +0.1299365j ,\n",
       "           0.31369898-0.03811111j]],\n",
       " \n",
       "        [[ 0.38346407-0.251368j  ,  0.05176347+0.40544143j,\n",
       "          -0.7871556 -0.02978291j,  0.02776621+0.00398546j,\n",
       "           0.01988178-0.03199952j],\n",
       "         [ 0.0303917 +0.12142434j, -0.24126524+0.56416816j,\n",
       "          -0.5720663 +0.17899595j, -0.05953559-0.31562752j,\n",
       "           0.29741415+0.23857477j]],\n",
       " \n",
       "        [[ 0.24715066+0.11495058j, -0.23049197+0.21588914j,\n",
       "          -0.6531158 +0.12993626j,  0.44936848-0.26452768j,\n",
       "          -0.31840062-0.09611797j],\n",
       "         [-0.3043731 -0.09337663j, -0.09790092-0.05591674j,\n",
       "          -0.5026217 -0.23324637j,  0.49908525-0.02128132j,\n",
       "          -0.5023222 -0.27753845j]],\n",
       " \n",
       "        [[ 0.19348246-0.04576983j, -0.46611306+0.3416938j ,\n",
       "           0.34291157-0.37053254j,  0.40877238+0.35884032j,\n",
       "           0.11614177+0.24944094j],\n",
       "         [-0.20001067-0.36339256j, -0.03416663-0.5652957j ,\n",
       "           0.11744867-0.32261997j, -0.4776242 +0.18205567j,\n",
       "          -0.2346284 +0.27021736j]],\n",
       " \n",
       "        [[ 0.38730475+0.2361013j , -0.1639885 +0.1189934j ,\n",
       "           0.12785307-0.36538684j,  0.1791947 +0.11575691j,\n",
       "          -0.29845318+0.68466115j],\n",
       "         [ 0.46235555+0.18189657j, -0.3269618 -0.13102895j,\n",
       "           0.00775866+0.19155918j, -0.48611215-0.44790676j,\n",
       "          -0.16814412+0.35653245j]]], dtype=complex64)]"
      ]
     },
     "execution_count": 6,
     "metadata": {},
     "output_type": "execute_result"
    }
   ],
   "source": [
    "generate_points_calabi_yau(key, [4],[1], poly,5)"
   ]
  },
  {
   "cell_type": "code",
   "execution_count": 7,
   "metadata": {},
   "outputs": [
    {
     "name": "stdout",
     "output_type": "stream",
     "text": [
      "[-0.1427558 +4.7180828e-01j -0.6434352 -5.0813568e-01j\n",
      " -0.47652444+1.6152956e-01j -0.96409214-6.0042072e-02j\n",
      "  1.        +7.1671036e-10j]\n"
     ]
    }
   ],
   "source": [
    "point = scale_coordinates(generate_points_projective(key, 4,1)[0])\n",
    "print(point)"
   ]
  },
  {
   "cell_type": "code",
   "execution_count": 8,
   "metadata": {},
   "outputs": [
    {
     "name": "stdout",
     "output_type": "stream",
     "text": [
      "[ 1.        +0.0000000e+00j -0.6434352 -5.0813568e-01j\n",
      " -0.47652444+1.6152956e-01j -0.96409214-6.0042072e-02j\n",
      "  1.        +7.1671036e-10j]\n"
     ]
    }
   ],
   "source": [
    "point = point.at[0].set(1.)\n",
    "print(point)"
   ]
  },
  {
   "cell_type": "code",
   "execution_count": 15,
   "metadata": {},
   "outputs": [
    {
     "name": "stdout",
     "output_type": "stream",
     "text": [
      "[[-0.4033156 +0.20376582j  1.        +0.j          0.        +0.j\n",
      "   0.        +0.j          0.        +0.j        ]\n",
      " [ 0.01669523-0.06188111j  0.        +0.j          1.        +0.j\n",
      "   0.        +0.j          0.        +0.j        ]\n",
      " [ 0.84382933+0.21437965j  0.        +0.j          0.        +0.j\n",
      "   1.        +0.j          0.        +0.j        ]]\n"
     ]
    }
   ],
   "source": [
    "print(pullback(point,[4], poly))"
   ]
  },
  {
   "cell_type": "code",
   "execution_count": 10,
   "metadata": {},
   "outputs": [
    {
     "name": "stdout",
     "output_type": "stream",
     "text": [
      "complex64\n"
     ]
    }
   ],
   "source": [
    "print(point.dtype)"
   ]
  },
  {
   "cell_type": "code",
   "execution_count": null,
   "metadata": {},
   "outputs": [],
   "source": []
  }
 ],
 "metadata": {
  "kernelspec": {
   "display_name": "jaxVenv",
   "language": "python",
   "name": "jaxvenv"
  },
  "language_info": {
   "codemirror_mode": {
    "name": "ipython",
    "version": 3
   },
   "file_extension": ".py",
   "mimetype": "text/x-python",
   "name": "python",
   "nbconvert_exporter": "python",
   "pygments_lexer": "ipython3",
   "version": "3.11.10"
  }
 },
 "nbformat": 4,
 "nbformat_minor": 2
}

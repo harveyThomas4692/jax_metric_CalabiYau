{
 "cells": [
  {
   "cell_type": "code",
   "execution_count": 1,
   "metadata": {},
   "outputs": [],
   "source": [
    "import jax\n",
    "import jax.numpy as jnp\n",
    "from jax import jit\n",
    "import numpy as np\n",
    "import optax\n",
    "from flax.training import train_state\n",
    "from tqdm import tqdm\n",
    "import pickle\n",
    "import matplotlib.pyplot as plt\n",
    "#from soap_jax import soap\n",
    "\n",
    "import jaxmetric as jm\n",
    "import models"
   ]
  },
  {
   "cell_type": "code",
   "execution_count": 2,
   "metadata": {},
   "outputs": [],
   "source": [
    "key = jax.random.PRNGKey(0)\n",
    "\n",
    "psi=0\n",
    "\n",
    "k_mod = [1]\n",
    "\n",
    "proj_facts = (4,)\n",
    "\n",
    "poly = jit(lambda x: x[0]**5 + x[1]**5 + x[2]**5 +x[3]**5 + x[4]**5 + psi* x[0]*x[1]*x[2]*x[3]*x[4])\n",
    "\n",
    "# psi0 = 0.5\n",
    "# psi1 = 1.\n",
    "\n",
    "\n",
    "# import itertools\n",
    "# combinations = list(itertools.product([0, 1], repeat=4))\n",
    "\n",
    "# @jit\n",
    "# def poly(x):\n",
    "#     X = jnp.array([x[0],x[1]])\n",
    "#     Y = jnp.array([x[2],x[3]])\n",
    "#     U = jnp.array([x[4],x[5]])\n",
    "#     V = jnp.array([x[6],x[7]])\n",
    "#     term_sum = 0\n",
    "#     term_prod = psi1 * (X[0] * Y[0] * U[0] * V[0]) * (X[1] * Y[1] * U[1] * V[1])\n",
    "#     for c in combinations:\n",
    "#         s = sum(c)\n",
    "#         term_sum += (1-s%2)*(X[c[0]] * Y[c[1]] * U[c[2]] * V[c[3]])**2. + psi0*(s%2)*(X[c[0]] * Y[c[1]] * U[c[2]] * V[c[3]])**2.\n",
    "\n",
    "#     return term_prod + term_sum"
   ]
  },
  {
   "cell_type": "code",
   "execution_count": 3,
   "metadata": {},
   "outputs": [
    {
     "name": "stdout",
     "output_type": "stream",
     "text": [
      "(100005, 5)\n"
     ]
    }
   ],
   "source": [
    "# points = jm.point_gen.generate_points_calabi_yau(key, proj_facts,poly,5e5)\n",
    "\n",
    "\n",
    "# with open(\"500kPointsPsiEq0.pkl\", \"wb\") as f:\n",
    "#     pickle.dump(points, f)\n",
    "\n",
    "\n",
    "with open(\"cyMetPoints100kQuintic.pkl\", \"rb\") as f:\n",
    "    points = pickle.load(f)\n",
    "\n",
    "\n",
    "print(jnp.shape(points))"
   ]
  },
  {
   "cell_type": "code",
   "execution_count": 5,
   "metadata": {},
   "outputs": [
    {
     "name": "stdout",
     "output_type": "stream",
     "text": [
      "0.50814354\n"
     ]
    }
   ],
   "source": [
    "# Initialize the model\n",
    "model = models.FuncQuintic()\n",
    "\n",
    "# Generate a PRNG key\n",
    "key = jax.random.PRNGKey(np.random.randint(0,10**6))\n",
    "\n",
    "# Initialize parameters\n",
    "params = model.init(key,  jm.complex_numbers.complex_to_real(points[0]))\n",
    "\n",
    "kappa_val = jm.metrics.kappa(proj_facts,k_mod, poly, points)\n",
    "\n",
    "print(kappa_val)"
   ]
  },
  {
   "cell_type": "code",
   "execution_count": 6,
   "metadata": {},
   "outputs": [
    {
     "name": "stdout",
     "output_type": "stream",
     "text": [
      "(64, 5) 1250\n",
      "(5,) 20001\n"
     ]
    }
   ],
   "source": [
    "# Split points into training and evaluation sets\n",
    "split_ratio = 0.8\n",
    "split_index = int(len(points) * split_ratio)\n",
    "train_points = points[:split_index]\n",
    "eval_points = points[split_index:]\n",
    "\n",
    "def batch_data(data, batch_size):\n",
    "    num_batches = len(data) // batch_size\n",
    "    return jnp.array_split(data[:num_batches * batch_size], num_batches)\n",
    "\n",
    "ptsBatched = batch_data(train_points, 64)\n",
    "\n",
    "print(ptsBatched[0].shape,len(ptsBatched))\n",
    "print(eval_points[0].shape,len(eval_points))"
   ]
  },
  {
   "cell_type": "code",
   "execution_count": 7,
   "metadata": {},
   "outputs": [
    {
     "name": "stderr",
     "output_type": "stream",
     "text": [
      "100%|██████████| 100/100 [02:28<00:00,  1.48s/it]\n"
     ]
    }
   ],
   "source": [
    "scals = [jm.metrics.ricci_scalar(model, params, proj_facts, k_mod, poly, ptsBatched[n]).real for n in tqdm(range(100))]\n",
    "scals = jnp.array(scals).flatten()"
   ]
  },
  {
   "cell_type": "code",
   "execution_count": 9,
   "metadata": {},
   "outputs": [
    {
     "data": {
      "text/plain": [
       "(array([1.893e+03, 1.041e+03, 7.990e+02, 5.150e+02, 3.560e+02, 2.660e+02,\n",
       "        2.010e+02, 2.040e+02, 1.380e+02, 1.190e+02, 1.120e+02, 1.000e+02,\n",
       "        8.000e+01, 6.600e+01, 6.300e+01, 5.500e+01, 4.400e+01, 3.400e+01,\n",
       "        3.700e+01, 3.300e+01, 2.400e+01, 1.700e+01, 1.700e+01, 2.700e+01,\n",
       "        1.900e+01, 1.600e+01, 1.800e+01, 1.400e+01, 1.900e+01, 1.500e+01,\n",
       "        1.000e+01, 8.000e+00, 6.000e+00, 7.000e+00, 5.000e+00, 4.000e+00,\n",
       "        3.000e+00, 3.000e+00, 5.000e+00, 1.000e+00, 1.000e+00, 0.000e+00,\n",
       "        0.000e+00, 0.000e+00, 1.000e+00, 1.000e+00, 0.000e+00, 1.000e+00,\n",
       "        0.000e+00, 2.000e+00]),\n",
       " array([-12.30483627,  -5.30902529,   1.68678594,   8.68259716,\n",
       "         15.67840767,  22.67421913,  29.67003059,  36.66584015,\n",
       "         43.66165161,  50.65746307,  57.65327454,  64.649086  ,\n",
       "         71.64489746,  78.64070892,  85.63652039,  92.63233185,\n",
       "         99.62814331, 106.62395477, 113.61976624, 120.6155777 ,\n",
       "        127.61138916, 134.60719299, 141.60301208, 148.59881592,\n",
       "        155.59463501, 162.59043884, 169.58625793, 176.58206177,\n",
       "        183.57788086, 190.57368469, 197.56948853, 204.56530762,\n",
       "        211.56111145, 218.55693054, 225.55273438, 232.54855347,\n",
       "        239.5443573 , 246.54017639, 253.53598022, 260.53179932,\n",
       "        267.52761841, 274.52340698, 281.51922607, 288.51504517,\n",
       "        295.51086426, 302.50665283, 309.50247192, 316.49829102,\n",
       "        323.49411011, 330.48989868, 337.48571777]),\n",
       " <BarContainer object of 50 artists>)"
      ]
     },
     "execution_count": 9,
     "metadata": {},
     "output_type": "execute_result"
    },
    {
     "data": {
      "image/png": "[encoded data removed]",
      "text/plain": [
       "<Figure size 640x480 with 1 Axes>"
      ]
     },
     "metadata": {},
     "output_type": "display_data"
    }
   ],
   "source": [
    "plt.hist(scals,bins=50)"
   ]
  },
  {
   "cell_type": "code",
   "execution_count": 21,
   "metadata": {},
   "outputs": [
    {
     "data": {
      "text/plain": [
       "Array(1.4901161e-08+7.450581e-09j, dtype=complex64)"
      ]
     },
     "execution_count": 21,
     "metadata": {},
     "output_type": "execute_result"
    }
   ],
   "source": [
    "gR = jm.metrics.get_ref_metric(proj_facts, k_mod, poly, ptsBatched[0])\n",
    "jnp.array([(gRe - jnp.transpose(jnp.conjugate(gRe))).flatten().max() for gRe in gR]).max()"
   ]
  },
  {
   "cell_type": "code",
   "execution_count": 22,
   "metadata": {},
   "outputs": [
    {
     "data": {
      "text/plain": [
       "Array(2.2351742e-08+7.450581e-09j, dtype=complex64)"
      ]
     },
     "execution_count": 22,
     "metadata": {},
     "output_type": "execute_result"
    }
   ],
   "source": [
    "gR = jm.metrics.cy_metric(model, params, proj_facts, k_mod, poly, ptsBatched[0])\n",
    "jnp.array([(gRe - jnp.transpose(jnp.conjugate(gRe))).flatten().max() for gRe in gR]).max()"
   ]
  },
  {
   "cell_type": "code",
   "execution_count": 8,
   "metadata": {},
   "outputs": [],
   "source": [
    "def replace_nan_grads(gradients, replacement_value=1e-8):\n",
    "    def replace(grad):\n",
    "        return jnp.where(jnp.isnan(grad), replacement_value, grad)\n",
    "    \n",
    "    return jax.tree_util.tree_map(replace, gradients)\n",
    "\n",
    "def nan_replacement_transform(replacement_value=1e-6):\n",
    "    def init_fn(params):\n",
    "        return ()\n",
    "    \n",
    "    def update_fn(updates, state, params=None):\n",
    "        sanitized_updates = jax.tree_util.tree_map(\n",
    "            lambda g: jnp.where(jnp.isnan(g), replacement_value, g),\n",
    "            updates\n",
    "        )\n",
    "        return sanitized_updates, state\n",
    "    \n",
    "    return optax.GradientTransformation(init_fn, update_fn)\n",
    "\n",
    "optimiser = optax.chain(\n",
    "#optax.clip(1e-2),\n",
    "#soap(learning_rate=1e-6),\n",
    "#optax.clip_by_block_rms(1e-2),\n",
    "optax.adam(learning_rate=1e-3),\n",
    "#nan_replacement_transform(1e-8)\n",
    ")\n",
    "\n",
    "my_state = train_state.TrainState.create(\n",
    "    apply_fn=model.apply,\n",
    "    params=params,\n",
    "    tx=optimiser)\n",
    "\n",
    "grad_func = jax.jit(jax.value_and_grad(jm.losses.loss_ma,argnums=1),static_argnums=(0,2,4))\n",
    "\n",
    "# Define the training step\n",
    "@jax.jit\n",
    "def train_step(state,x):\n",
    "  loss, grads = grad_func(model, state.params,proj_facts,k_mod, poly,  kappa_val, x)\n",
    "  state = state.apply_gradients(grads=grads)\n",
    "  return state, loss\n",
    "\n",
    "@jax.jit\n",
    "def evaluate_step(state,x,scalar_num=100):\n",
    "  loss = jm.losses.loss_ma(model, state.params,proj_facts,k_mod, poly, kappa_val, x)\n",
    "  sigma = jm.losses.sigma_measure(model, state.params,proj_facts,k_mod, poly, kappa_val, x)\n",
    "  scalar =  jnp.mean(jnp.abs(jm.metrics.ricci_scalar(model, state.params, proj_facts, k_mod, poly, x[:scalar_num])))\n",
    "  return loss, sigma, scalar"
   ]
  },
  {
   "cell_type": "code",
   "execution_count": 9,
   "metadata": {},
   "outputs": [
    {
     "name": "stderr",
     "output_type": "stream",
     "text": [
      "Last Eval Loss 0.25353682041168213 | Last Eval Sigma 0.34276244044303894 | Average Eval Scalar 16.779077529907227 | Batch 1250/1251  | Batch Loss: 0.20679454505443573: 100%|██████████| 50/50 [16:41<00:00, 20.03s/it]\n"
     ]
    }
   ],
   "source": [
    "# Train the model\n",
    "eval, sig, scal = evaluate_step(my_state,eval_points)\n",
    "loss = []\n",
    "lossEval = [[0,eval]]\n",
    "sigma = [[0,sig]]\n",
    "scalar = [[0,scal]]\n",
    "pbar = tqdm(range(50))\n",
    "batchNum = len(ptsBatched)\n",
    "pbar.set_description(f\"Last Eval Loss {eval} | Last Eval Sigma {sig} | Average Eval Scalar {scal}  | Batch {0}/{batchNum+1}  | Batch Loss: NA\")\n",
    "\n",
    "for i in pbar:\n",
    "  order = np.array(range(batchNum))\n",
    "  np.random.shuffle(order)\n",
    "  k=1\n",
    "  for j in order:\n",
    "    k+=1\n",
    "    my_state, l = train_step(my_state, ptsBatched[j])\n",
    "    if k % 10 == 0:\n",
    "      pbar.set_description(f\"Last Eval Loss {eval} | Last Eval Sigma {sig} | Average Eval Scalar {scal} | Batch {k}/{batchNum+1}  | Batch Loss: {l}\" )\n",
    "    loss.append(l)\n",
    "  eval, sig, scal = evaluate_step(my_state,eval_points)\n",
    "  lossEval.append([(i+1)*batchNum,eval])\n",
    "  sigma.append([(i+1)*batchNum,sig])\n",
    "  scalar.append([(i+1)*batchNum,scal])\n",
    "\n",
    "lossEval = np.array(lossEval)\n",
    "loss = jnp.array(loss)"
   ]
  },
  {
   "cell_type": "code",
   "execution_count": 10,
   "metadata": {},
   "outputs": [],
   "source": [
    "lossEval=jnp.array(lossEval)\n",
    "loss = jnp.array(loss)\n",
    "sigma = jnp.array(sigma)\n",
    "scalar = jnp.array(scalar)"
   ]
  },
  {
   "cell_type": "code",
   "execution_count": 11,
   "metadata": {},
   "outputs": [
    {
     "data": {
      "image/png": "[encoded data removed]",
      "text/plain": [
       "<Figure size 640x480 with 1 Axes>"
      ]
     },
     "metadata": {},
     "output_type": "display_data"
    }
   ],
   "source": [
    "plt.plot(loss, label='Training Loss')\n",
    "plt.plot(lossEval[:,0], lossEval[:,1], label='Evaluation Loss')\n",
    "plt.plot(sigma[:,0], sigma[:,1], label='Sigma')\n",
    "plt.plot(scalar[:,0], scalar[:,1], label='Scalar')\n",
    "plt.xscale('log')\n",
    "plt.yscale('log')\n",
    "plt.legend()\n",
    "plt.show()"
   ]
  },
  {
   "cell_type": "code",
   "execution_count": 12,
   "metadata": {},
   "outputs": [
    {
     "name": "stderr",
     "output_type": "stream",
     "text": [
      "100%|██████████| 100/100 [02:07<00:00,  1.28s/it]\n"
     ]
    }
   ],
   "source": [
    "scals = [jm.metrics.ricci_scalar(model, my_state.params, proj_facts, k_mod, poly, ptsBatched[n]).real for n in tqdm(range(100))]\n",
    "scals = jnp.array(scals).flatten()"
   ]
  },
  {
   "cell_type": "code",
   "execution_count": 13,
   "metadata": {},
   "outputs": [
    {
     "data": {
      "text/plain": [
       "(array([2.740e+03, 2.932e+03, 5.850e+02, 1.130e+02, 1.800e+01, 7.000e+00,\n",
       "        0.000e+00, 2.000e+00, 0.000e+00, 0.000e+00, 0.000e+00, 1.000e+00,\n",
       "        0.000e+00, 0.000e+00, 0.000e+00, 0.000e+00, 0.000e+00, 0.000e+00,\n",
       "        0.000e+00, 0.000e+00, 0.000e+00, 0.000e+00, 0.000e+00, 0.000e+00,\n",
       "        0.000e+00, 0.000e+00, 0.000e+00, 0.000e+00, 0.000e+00, 0.000e+00,\n",
       "        0.000e+00, 0.000e+00, 0.000e+00, 0.000e+00, 0.000e+00, 0.000e+00,\n",
       "        0.000e+00, 0.000e+00, 0.000e+00, 0.000e+00, 0.000e+00, 0.000e+00,\n",
       "        0.000e+00, 1.000e+00, 0.000e+00, 0.000e+00, 0.000e+00, 0.000e+00,\n",
       "        0.000e+00, 1.000e+00]),\n",
       " array([ -26.94852066,    3.79397035,   34.53646088,   65.27895355,\n",
       "          96.02144623,  126.76393127,  157.50642395,  188.24891663,\n",
       "         218.9914093 ,  249.73390198,  280.47637939,  311.21887207,\n",
       "         341.96136475,  372.70385742,  403.4463501 ,  434.18884277,\n",
       "         464.93133545,  495.67382812,  526.4163208 ,  557.15881348,\n",
       "         587.90130615,  618.64379883,  649.3862915 ,  680.12878418,\n",
       "         710.87127686,  741.61376953,  772.35626221,  803.09875488,\n",
       "         833.84124756,  864.58374023,  895.32623291,  926.06872559,\n",
       "         956.81121826,  987.5536499 , 1018.29614258, 1049.03869629,\n",
       "        1079.78112793, 1110.52368164, 1141.26611328, 1172.00866699,\n",
       "        1202.75109863, 1233.49365234, 1264.23608398, 1294.9786377 ,\n",
       "        1325.72106934, 1356.46362305, 1387.20605469, 1417.9486084 ,\n",
       "        1448.69104004, 1479.43359375, 1510.17602539]),\n",
       " <BarContainer object of 50 artists>)"
      ]
     },
     "execution_count": 13,
     "metadata": {},
     "output_type": "execute_result"
    },
    {
     "data": {
      "image/png": "[encoded data removed]",
      "text/plain": [
       "<Figure size 640x480 with 1 Axes>"
      ]
     },
     "metadata": {},
     "output_type": "display_data"
    }
   ],
   "source": [
    "plt.hist(scals,bins=50)"
   ]
  },
  {
   "cell_type": "code",
   "execution_count": null,
   "metadata": {},
   "outputs": [],
   "source": []
  }
 ],
 "metadata": {
  "kernelspec": {
   "display_name": "jaxVenv",
   "language": "python",
   "name": "jaxvenv"
  },
  "language_info": {
   "codemirror_mode": {
    "name": "ipython",
    "version": 3
   },
   "file_extension": ".py",
   "mimetype": "text/x-python",
   "name": "python",
   "nbconvert_exporter": "python",
   "pygments_lexer": "ipython3",
   "version": "3.11.10"
  }
 },
 "nbformat": 4,
 "nbformat_minor": 2
}

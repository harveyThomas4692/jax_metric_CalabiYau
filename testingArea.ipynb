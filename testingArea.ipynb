{
 "cells": [
  {
   "cell_type": "code",
   "execution_count": 1,
   "metadata": {},
   "outputs": [],
   "source": [
    "import jax\n",
    "import jax.numpy as jnp\n",
    "from jax import jit\n",
    "import numpy as np\n",
    "import optax\n",
    "from flax.training import train_state\n",
    "from tqdm import tqdm\n",
    "import pickle\n",
    "import matplotlib.pyplot as plt\n",
    "from soap_jax import soap\n",
    "import jaxmetric as jm\n",
    "from jaxmetric import models"
   ]
  },
  {
   "cell_type": "code",
   "execution_count": 2,
   "metadata": {},
   "outputs": [],
   "source": [
    "isQuint = True\n",
    "simple_eval = True"
   ]
  },
  {
   "cell_type": "code",
   "execution_count": 3,
   "metadata": {},
   "outputs": [],
   "source": [
    "key = jax.random.PRNGKey(0)\n",
    "\n",
    "if isQuint:\n",
    "    psi=0\n",
    "    k_mod = [1]\n",
    "    proj_facts = (4,)\n",
    "    poly = jit(lambda x: x[0]**5 + x[1]**5 + x[2]**5 +x[3]**5 + x[4]**5 + psi* x[0]*x[1]*x[2]*x[3]*x[4])\n",
    "\n",
    "else:\n",
    "    proj_facts = (1,1,1,1)\n",
    "    k_mod = [1,1,1,1]\n",
    "    psi0 = 0.5\n",
    "    psi1 = 1.\n",
    "    import itertools\n",
    "    combinations = list(itertools.product([0, 1], repeat=4))\n",
    "    @jit\n",
    "    def poly(x):\n",
    "        X = jnp.array([x[0],x[1]])\n",
    "        Y = jnp.array([x[2],x[3]])\n",
    "        U = jnp.array([x[4],x[5]])\n",
    "        V = jnp.array([x[6],x[7]])\n",
    "        term_sum = 0\n",
    "        term_prod = psi1 * (X[0] * Y[0] * U[0] * V[0]) * (X[1] * Y[1] * U[1] * V[1])\n",
    "        for c in combinations:\n",
    "            s = sum(c)\n",
    "            term_sum += (1-s%2)*(X[c[0]] * Y[c[1]] * U[c[2]] * V[c[3]])**2. + psi0*(s%2)*(X[c[0]] * Y[c[1]] * U[c[2]] * V[c[3]])**2.\n",
    "\n",
    "        return term_prod + term_sum"
   ]
  },
  {
   "cell_type": "code",
   "execution_count": 4,
   "metadata": {},
   "outputs": [
    {
     "name": "stdout",
     "output_type": "stream",
     "text": [
      "(100005, 5)\n"
     ]
    }
   ],
   "source": [
    "# points = jm.point_gen.generate_points_calabi_yau(key, proj_facts,poly,5e5)\n",
    "\n",
    "\n",
    "# with open(\"500kPointsPsiEq0.pkl\", \"wb\") as f:\n",
    "#     pickle.dump(points, f)\n",
    "\n",
    "if isQuint:\n",
    "    with open(\"cyMetPoints100kQuintic.pkl\", \"rb\") as f:\n",
    "        points = pickle.load(f)\n",
    "else:\n",
    "    with open(\"100kPointsTQ.pkl\", \"rb\") as f:\n",
    "        points = pickle.load(f)\n",
    "\n",
    "print(jnp.shape(points))"
   ]
  },
  {
   "cell_type": "code",
   "execution_count": 5,
   "metadata": {},
   "outputs": [
    {
     "name": "stdout",
     "output_type": "stream",
     "text": [
      "(0.01742472-1.0973267e-13j)\n"
     ]
    }
   ],
   "source": [
    "# Initialize the model\n",
    "if isQuint:\n",
    "    model = models.FuncQuintic()\n",
    "else:\n",
    "    model = models.FuncTQ()\n",
    "\n",
    "# Generate a PRNG key\n",
    "key = jax.random.PRNGKey(np.random.randint(0,10**6))\n",
    "\n",
    "# Initialize parameters\n",
    "params = model.init(key,  jm.complex_numbers.complex_to_real(points[1]))\n",
    "\n",
    "kappa_val = jm.metrics.kappa(proj_facts,k_mod, poly, points)\n",
    "\n",
    "print(kappa_val)"
   ]
  },
  {
   "cell_type": "code",
   "execution_count": 6,
   "metadata": {},
   "outputs": [
    {
     "name": "stdout",
     "output_type": "stream",
     "text": [
      "(64, 5) 1250\n",
      "(5,) 20001\n"
     ]
    }
   ],
   "source": [
    "# Split points into training and evaluation sets\n",
    "split_ratio = 0.8\n",
    "split_index = int(len(points) * split_ratio)\n",
    "train_points = points[:split_index]\n",
    "eval_points = points[split_index:]\n",
    "\n",
    "def batch_data(data, batch_size):\n",
    "    num_batches = len(data) // batch_size\n",
    "    return jnp.array_split(data[:num_batches * batch_size], num_batches)\n",
    "\n",
    "ptsBatched = batch_data(train_points, 64)\n",
    "\n",
    "print(ptsBatched[0].shape,len(ptsBatched))\n",
    "print(eval_points[0].shape,len(eval_points))"
   ]
  },
  {
   "cell_type": "code",
   "execution_count": 7,
   "metadata": {},
   "outputs": [],
   "source": [
    "def replace_nan_grads(gradients, replacement_value=1e-8):\n",
    "    def replace(grad):\n",
    "        return jnp.where(jnp.isnan(grad), replacement_value, grad)\n",
    "    \n",
    "    return jax.tree_util.tree_map(replace, gradients)\n",
    "\n",
    "def nan_replacement_transform(replacement_value=1e-6):\n",
    "    def init_fn(params):\n",
    "        return ()\n",
    "    \n",
    "    def update_fn(updates, state, params=None):\n",
    "        sanitized_updates = jax.tree_util.tree_map(\n",
    "            lambda g: jnp.where(jnp.isnan(g), replacement_value, g),\n",
    "            updates\n",
    "        )\n",
    "        return sanitized_updates, state\n",
    "    \n",
    "    return optax.GradientTransformation(init_fn, update_fn)\n",
    "\n",
    "optimiser = optax.chain(\n",
    "#optax.clip(1),\n",
    "soap(learning_rate=1e-3),\n",
    "#optax.clip_by_block_rms(1e-2),\n",
    "#optax.adam(learning_rate=1e-3),\n",
    "#nan_replacement_transform(1e-8)\n",
    ")\n",
    "\n",
    "my_state = train_state.TrainState.create(\n",
    "    apply_fn=model.apply,\n",
    "    params=params,\n",
    "    tx=optimiser)\n",
    "\n",
    "grad_func = jax.jit(jax.value_and_grad(jm.losses.loss_ma,argnums=1),static_argnums=(0,2,4))\n",
    "\n",
    "# Define the training step\n",
    "@jax.jit\n",
    "def train_step(state,x):\n",
    "  loss, grads = grad_func(model, state.params,proj_facts,k_mod, poly,  kappa_val, x)\n",
    "  state = state.apply_gradients(grads=grads)\n",
    "  return state, loss\n",
    "\n",
    "def evaluate_step(state,x,scalar_num=100):\n",
    "  loss = jm.losses.loss_ma(model, state.params,proj_facts,k_mod, poly, kappa_val, x)\n",
    "  scalar =  jnp.mean(jnp.abs(jm.metrics.ricci_scalar(model, state.params, proj_facts, k_mod, poly, x[:scalar_num])))\n",
    "  return loss, scalar\n",
    "\n",
    "evaluate_step = jax.jit(evaluate_step,static_argnames=(\"scalar_num\",))\n",
    "\n",
    "@jax.jit\n",
    "def evaluate_step_simple(state,x):\n",
    "  loss = jm.losses.loss_ma(model, state.params,proj_facts,k_mod, poly, kappa_val, x)\n",
    "  return loss"
   ]
  },
  {
   "cell_type": "code",
   "execution_count": 8,
   "metadata": {},
   "outputs": [],
   "source": [
    "hol_weights = jm.metrics.hol_vol_weights(proj_facts, k_mod, poly, points)"
   ]
  },
  {
   "cell_type": "code",
   "execution_count": 9,
   "metadata": {},
   "outputs": [
    {
     "data": {
      "text/plain": [
       "Array(6724074.5+0.00026451j, dtype=complex64)"
      ]
     },
     "execution_count": 9,
     "metadata": {},
     "output_type": "execute_result"
    }
   ],
   "source": [
    "jnp.sum(hol_weights)"
   ]
  },
  {
   "cell_type": "code",
   "execution_count": 10,
   "metadata": {},
   "outputs": [
    {
     "name": "stderr",
     "output_type": "stream",
     "text": [
      "Last Eval Loss 0.009975194931030273 | Batch 1250/1251  | Batch Loss: 0.005300363525748253: 100%|██████████| 10/10 [06:36<00:00, 39.63s/it]\n"
     ]
    }
   ],
   "source": [
    "# Train the model\n",
    "if simple_eval:\n",
    "  eval = evaluate_step_simple(my_state,eval_points)\n",
    "else:\n",
    "  scalr_val = 100\n",
    "  eval, scal = evaluate_step(my_state,eval_points,scalar_num=scalr_val)\n",
    "  scalar = [[0,scal]]\n",
    "\n",
    "loss = []\n",
    "lossEval = [[0,eval]]\n",
    "pbar = tqdm(range(10))\n",
    "batchNum = len(ptsBatched)\n",
    "pbar.set_description(f\"Last Eval Loss {eval} | Batch {0}/{batchNum+1}  | Batch Loss: NA\")\n",
    "\n",
    "for i in pbar:\n",
    "  order = np.array(range(batchNum))\n",
    "  np.random.shuffle(order)\n",
    "  k=1\n",
    "  for j in order:\n",
    "    k+=1\n",
    "    my_state, l = train_step(my_state, ptsBatched[j])\n",
    "    if k % 10 == 0:\n",
    "      pbar.set_description(f\"Last Eval Loss {eval} | Batch {k}/{batchNum+1}  | Batch Loss: {l}\" )\n",
    "    loss.append(l)\n",
    "  if simple_eval:\n",
    "    eval = evaluate_step_simple(my_state,eval_points)\n",
    "  else:\n",
    "    eval, scal = evaluate_step(my_state,eval_points,scalar_num=scalr_val)\n",
    "    scalar.append([(i+1)*batchNum,scal])\n",
    "  lossEval.append([(i+1)*batchNum,eval])"
   ]
  },
  {
   "cell_type": "code",
   "execution_count": 11,
   "metadata": {},
   "outputs": [],
   "source": [
    "lossEval=jnp.array(lossEval)\n",
    "loss = jnp.array(loss)\n",
    "if not simple_eval:\n",
    "  scalar = jnp.array(scalar)"
   ]
  },
  {
   "cell_type": "code",
   "execution_count": 12,
   "metadata": {},
   "outputs": [
    {
     "data": {
      "image/png": "[encoded data removed]",
      "text/plain": [
       "<Figure size 640x480 with 1 Axes>"
      ]
     },
     "metadata": {},
     "output_type": "display_data"
    }
   ],
   "source": [
    "plt.plot(loss, label='Training Loss')\n",
    "plt.plot(lossEval[:,0], lossEval[:,1], label='Evaluation Loss')\n",
    "# plt.plot(scalar[:,0], scalar[:,1], label='Scalar')\n",
    "#plt.xscale('log')\n",
    "plt.yscale('log')\n",
    "plt.xlabel('Batch')\n",
    "plt.ylabel('MA-loss')\n",
    "plt.legend()\n",
    "plt.show()"
   ]
  },
  {
   "cell_type": "code",
   "execution_count": 13,
   "metadata": {},
   "outputs": [],
   "source": [
    "if not simple_eval:\n",
    "  plt.plot(scalar[:,0], scalar[:,1], label='Scalar')\n",
    "  plt.xlabel('Batch')\n",
    "  plt.ylabel('Ricci Scalar')\n",
    "  plt.yscale('log')\n",
    "  plt.legend()\n",
    "  plt.show()"
   ]
  },
  {
   "cell_type": "code",
   "execution_count": null,
   "metadata": {},
   "outputs": [],
   "source": []
  }
 ],
 "metadata": {
  "kernelspec": {
   "display_name": "jaxVenv",
   "language": "python",
   "name": "jaxvenv"
  },
  "language_info": {
   "codemirror_mode": {
    "name": "ipython",
    "version": 3
   },
   "file_extension": ".py",
   "mimetype": "text/x-python",
   "name": "python",
   "nbconvert_exporter": "python",
   "pygments_lexer": "ipython3",
   "version": "3.11.10"
  }
 },
 "nbformat": 4,
 "nbformat_minor": 2
}

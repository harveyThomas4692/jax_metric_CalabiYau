{
 "cells": [
  {
   "cell_type": "code",
   "execution_count": 1,
   "metadata": {},
   "outputs": [],
   "source": [
    "import jax\n",
    "import jax.numpy as jnp\n",
    "import numpy as np\n",
    "import optax\n",
    "from flax import linen as nn\n",
    "from flax.training import train_state\n",
    "from tqdm import tqdm\n",
    "import pickle\n",
    "import matplotlib.pyplot as plt\n",
    "\n",
    "import jaxmetric as jm"
   ]
  },
  {
   "cell_type": "code",
   "execution_count": 2,
   "metadata": {},
   "outputs": [],
   "source": [
    "key = jax.random.PRNGKey(0)\n",
    "\n",
    "psi=0\n",
    "\n",
    "poly = lambda x: x[0]**5 + x[1]**5 + x[2]**5 +x[3]**5 + x[4]**5 + psi* x[0]*x[1]*x[2]*x[3]*x[4]\n",
    "\n",
    "points = np.array([[0.5457718 +0.42877685j, -0.96667378+0.00622714j, -0.2195527-0.23682649j, 0.01382411+0.10245113j, 1.+0.j]])        "
   ]
  },
  {
   "cell_type": "code",
   "execution_count": 3,
   "metadata": {},
   "outputs": [
    {
     "name": "stdout",
     "output_type": "stream",
     "text": [
      "(100000, 5)\n"
     ]
    }
   ],
   "source": [
    "'''\n",
    "pts = genCYnPts(3*10**5,3,poly)\n",
    "\n",
    "\n",
    "with open(\"300kPointsPsiEq0.pkl\", \"wb\") as f:\n",
    "    pickle.dump(pts, f)\n",
    "'''\n",
    "\n",
    "with open(\"100kPointsPsiEq0.pkl\", \"rb\") as f:\n",
    "    points = pickle.load(f)\n",
    "\n",
    "\n",
    "print(jnp.shape(points))"
   ]
  },
  {
   "cell_type": "code",
   "execution_count": 4,
   "metadata": {},
   "outputs": [],
   "source": [
    "# Define the model\n",
    "class FuncQuintic(nn.Module):\n",
    "  def setup(self):\n",
    "    self.dense1 = nn.Dense(features=64,param_dtype=jnp.float64)\n",
    "    self.dense2 = nn.Dense(features=64,param_dtype=jnp.float64)\n",
    "    self.dense3 = nn.Dense(features=64,param_dtype=jnp.float64)\n",
    "    self.dense4 = nn.Dense(features=1,use_bias=False,param_dtype=jnp.float64)\n",
    "\n",
    "  def __call__(self, x):\n",
    "\n",
    "    xR = x[0]\n",
    "    xI = x[1]\n",
    "\n",
    "    kappa = jnp.sum(jnp.square(xR) + jnp.square(xI))\n",
    "\n",
    "    #xB = x.conj()\n",
    "    #x = jnp.array([\n",
    "    #x[0]*xB[0], x[0]*xB[1], x[0]*xB[2], x[0]*xB[3], x[0]*xB[4],\n",
    "    #x[1]*xB[0], x[1]*xB[1], x[1]*xB[2], x[1]*xB[3], x[1]*xB[4],\n",
    "    #x[2]*xB[0], x[2]*xB[1], x[2]*xB[2], x[2]*xB[3], x[2]*xB[4],\n",
    "    #x[3]*xB[0], x[3]*xB[1], x[3]*xB[2], x[3]*xB[3], x[3]*xB[4],\n",
    "    #x[4]*xB[0], x[4]*xB[1], x[4]*xB[2], x[4]*xB[3], x[4]*xB[4]])/kappa\n",
    "    \n",
    "    #x = jnp.array([x.real,x.imag]).flatten()\n",
    "\n",
    "    x = jnp.array( \n",
    "      [\n",
    "        xR[0]*xR[1] - xI[0]*xI[1], xR[0]*xI[1],\n",
    "        xR[0]*xR[2] - xI[0]*xI[2], xR[0]*xI[2],\n",
    "        xR[0]*xR[3] - xI[0]*xI[3], xR[0]*xI[3],\n",
    "        xR[0]*xR[4] - xI[0]*xI[4], xR[0]*xI[4],\n",
    "        xR[1]*xR[2] - xI[1]*xI[2], xR[1]*xI[2],\n",
    "        xR[1]*xR[3] - xI[1]*xI[3], xR[1]*xI[3],\n",
    "        xR[1]*xR[4] - xI[1]*xI[4], xR[1]*xI[4],\n",
    "        xR[2]*xR[3] - xI[2]*xI[3], xR[2]*xI[3],\n",
    "        xR[2]*xR[4] - xI[2]*xI[4], xR[2]*xI[4],\n",
    "        xR[3]*xR[4] - xI[3]*xI[4], xR[3]*xI[4]\n",
    "\n",
    "      ])/kappa\n",
    "    \n",
    "    x = self.dense1(x)\n",
    "    x = x**2.\n",
    "    x = self.dense2(x)\n",
    "    x = x**2.\n",
    "    x = self.dense3(x)\n",
    "    x = x**2.\n",
    "    x = self.dense4(x)\n",
    "    return jnp.log(jnp.abs(x[0]))"
   ]
  },
  {
   "cell_type": "code",
   "execution_count": 5,
   "metadata": {},
   "outputs": [],
   "source": [
    "# Initialize the model\n",
    "model = FuncQuintic()\n",
    "\n",
    "# Generate a PRNG key\n",
    "key = jax.random.PRNGKey(np.random.randint(0,10**6))\n",
    "\n",
    "# Initialize parameters\n",
    "params = model.init(key,  jm.complex_numbers.complex_to_real(points[0]))"
   ]
  },
  {
   "cell_type": "code",
   "execution_count": 12,
   "metadata": {},
   "outputs": [],
   "source": [
    "def replace_nan_grads(gradients, replacement_value=1e-8):\n",
    "    def replace(grad):\n",
    "        return jnp.where(jnp.isnan(grad), replacement_value, grad)\n",
    "    \n",
    "    return jax.tree_util.tree_map(replace, gradients)\n",
    "\n",
    "def nan_replacement_transform(replacement_value=1e-6):\n",
    "    def init_fn(params):\n",
    "        return ()\n",
    "    \n",
    "    def update_fn(updates, state, params=None):\n",
    "        sanitized_updates = jax.tree_util.tree_map(\n",
    "            lambda g: jnp.where(jnp.isnan(g), replacement_value, g),\n",
    "            updates\n",
    "        )\n",
    "        return sanitized_updates, state\n",
    "    \n",
    "    return optax.GradientTransformation(init_fn, update_fn)\n",
    "\n",
    "optimiser = optax.chain(\n",
    "nan_replacement_transform(1e-8),\n",
    "optax.clip(1.),\n",
    "#optax.clip_by_block_rms(1e-2),\n",
    "optax.adam(learning_rate=1e-2)\n",
    ")\n",
    "\n",
    "my_state = train_state.TrainState.create(\n",
    "    apply_fn=model.apply,\n",
    "    params=params,\n",
    "    tx=optimiser)\n",
    "\n",
    "grad_func = jax.jit(jax.value_and_grad(jm.losses.loss_ma,argnums=1),static_argnums=(0,2,4))\n",
    "\n",
    "# Define the training step\n",
    "@jax.jit\n",
    "def train_step(state,x):\n",
    "  loss, grads = grad_func(model, state.params,(4,),[1], poly, x)\n",
    "  state = state.apply_gradients(grads=grads)\n",
    "  return state, loss\n",
    "\n",
    "@jax.jit\n",
    "def evaluate_step(state,x):\n",
    "  return jm.losses.loss_ma(model, state.params,(4,),[1], poly, x)"
   ]
  },
  {
   "cell_type": "code",
   "execution_count": 13,
   "metadata": {},
   "outputs": [
    {
     "data": {
      "text/plain": [
       "(1000, 5)"
      ]
     },
     "execution_count": 13,
     "metadata": {},
     "output_type": "execute_result"
    }
   ],
   "source": [
    "ptsBatched = jnp.reshape(points,(100,1000,5))\n",
    "\n",
    "ptsBatched[0].shape"
   ]
  },
  {
   "cell_type": "code",
   "execution_count": 14,
   "metadata": {},
   "outputs": [
    {
     "data": {
      "text/plain": [
       "Array(8.549456e+17, dtype=float32)"
      ]
     },
     "execution_count": 14,
     "metadata": {},
     "output_type": "execute_result"
    }
   ],
   "source": [
    "evaluate_step(my_state,points)"
   ]
  },
  {
   "cell_type": "code",
   "execution_count": 15,
   "metadata": {},
   "outputs": [
    {
     "name": "stderr",
     "output_type": "stream",
     "text": [
      "Last Eval Loss 0.37199994921684265 | Batch 100/100  | Batch Loss: 0.3469617962837219: 100%|██████████| 10/10 [03:21<00:00, 20.11s/it]\n"
     ]
    }
   ],
   "source": [
    "# Train the model\n",
    "eval = evaluate_step(my_state,ptsBatched[-1])\n",
    "loss = []\n",
    "lossEval = []\n",
    "pbar = tqdm(range(10))\n",
    "batchNum = ptsBatched.shape[0]-1\n",
    "pbar.set_description(f\"Last Eval Loss {eval} | Batch {0}/{batchNum+1}  | Batch Loss: NA\")\n",
    "\n",
    "for i in pbar:\n",
    "  order = np.array(range(batchNum))[:batchNum]\n",
    "  np.random.shuffle(order)\n",
    "  k=1\n",
    "  for j in order:\n",
    "    k+=1\n",
    "    my_state, l = train_step(my_state, ptsBatched[j])\n",
    "    #if l>1 and i!=0: break\n",
    "    pbar.set_description(f\"Last Eval Loss {eval} | Batch {k}/{batchNum+1}  | Batch Loss: {l}\" )\n",
    "    loss.append(l)\n",
    "  #if l>1 and i!=0: break\n",
    "  eval = evaluate_step(my_state,ptsBatched[-1])\n",
    "  lossEval.append([(i+1)*batchNum,eval])\n",
    "\n",
    "lossEval = np.array(lossEval)\n",
    "loss = jnp.array(loss)"
   ]
  },
  {
   "cell_type": "code",
   "execution_count": 16,
   "metadata": {},
   "outputs": [],
   "source": [
    "lossEval=jnp.array(lossEval)\n",
    "loss = jnp.array(loss)"
   ]
  },
  {
   "cell_type": "code",
   "execution_count": 18,
   "metadata": {},
   "outputs": [
    {
     "data": {
      "image/png": "[encoded data removed]",
      "text/plain": [
       "<Figure size 640x480 with 1 Axes>"
      ]
     },
     "metadata": {},
     "output_type": "display_data"
    }
   ],
   "source": [
    "plt.plot((loss[3:]))\n",
    "plt.plot(lossEval[1:,0],(lossEval[1:,1]))\n",
    "plt.xscale('log')\n",
    "plt.yscale('log')\n",
    "plt.show()"
   ]
  },
  {
   "cell_type": "code",
   "execution_count": null,
   "metadata": {},
   "outputs": [],
   "source": []
  }
 ],
 "metadata": {
  "kernelspec": {
   "display_name": "jaxVenv",
   "language": "python",
   "name": "jaxvenv"
  },
  "language_info": {
   "codemirror_mode": {
    "name": "ipython",
    "version": 3
   },
   "file_extension": ".py",
   "mimetype": "text/x-python",
   "name": "python",
   "nbconvert_exporter": "python",
   "pygments_lexer": "ipython3",
   "version": "3.11.10"
  }
 },
 "nbformat": 4,
 "nbformat_minor": 2
}

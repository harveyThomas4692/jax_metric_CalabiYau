{
 "cells": [
  {
   "cell_type": "code",
   "execution_count": 1,
   "metadata": {},
   "outputs": [],
   "source": [
    "import jax\n",
    "import jax.numpy as jnp\n",
    "from jax import jit\n",
    "import numpy as np\n",
    "import optax\n",
    "from flax.training import train_state\n",
    "from tqdm import tqdm\n",
    "import pickle\n",
    "import matplotlib.pyplot as plt\n",
    "#from soap_jax import soap\n",
    "import jaxmetric as jm\n",
    "import models"
   ]
  },
  {
   "cell_type": "code",
   "execution_count": 2,
   "metadata": {},
   "outputs": [],
   "source": [
    "key = jax.random.PRNGKey(0)\n",
    "\n",
    "psi=0\n",
    "\n",
    "k_mod = [1]\n",
    "\n",
    "proj_facts = (4,)\n",
    "\n",
    "poly = jit(lambda x: x[0]**5 + x[1]**5 + x[2]**5 +x[3]**5 + x[4]**5 + psi* x[0]*x[1]*x[2]*x[3]*x[4])\n",
    "\n",
    "# psi0 = 0.5\n",
    "# psi1 = 1.\n",
    "\n",
    "\n",
    "# import itertools\n",
    "# combinations = list(itertools.product([0, 1], repeat=4))\n",
    "\n",
    "# @jit\n",
    "# def poly(x):\n",
    "#     X = jnp.array([x[0],x[1]])\n",
    "#     Y = jnp.array([x[2],x[3]])\n",
    "#     U = jnp.array([x[4],x[5]])\n",
    "#     V = jnp.array([x[6],x[7]])\n",
    "#     term_sum = 0\n",
    "#     term_prod = psi1 * (X[0] * Y[0] * U[0] * V[0]) * (X[1] * Y[1] * U[1] * V[1])\n",
    "#     for c in combinations:\n",
    "#         s = sum(c)\n",
    "#         term_sum += (1-s%2)*(X[c[0]] * Y[c[1]] * U[c[2]] * V[c[3]])**2. + psi0*(s%2)*(X[c[0]] * Y[c[1]] * U[c[2]] * V[c[3]])**2.\n",
    "\n",
    "#     return term_prod + term_sum"
   ]
  },
  {
   "cell_type": "code",
   "execution_count": 3,
   "metadata": {},
   "outputs": [
    {
     "name": "stdout",
     "output_type": "stream",
     "text": [
      "(100005, 5)\n"
     ]
    }
   ],
   "source": [
    "# points = jm.point_gen.generate_points_calabi_yau(key, proj_facts,poly,5e5)\n",
    "\n",
    "\n",
    "# with open(\"500kPointsPsiEq0.pkl\", \"wb\") as f:\n",
    "#     pickle.dump(points, f)\n",
    "\n",
    "\n",
    "with open(\"cyMetPoints100kQuintic.pkl\", \"rb\") as f:\n",
    "    points = pickle.load(f)\n",
    "\n",
    "\n",
    "print(jnp.shape(points))"
   ]
  },
  {
   "cell_type": "code",
   "execution_count": 4,
   "metadata": {},
   "outputs": [
    {
     "name": "stdout",
     "output_type": "stream",
     "text": [
      "0.017587576\n"
     ]
    }
   ],
   "source": [
    "# Initialize the model\n",
    "model = models.FuncQuintic()\n",
    "\n",
    "# Generate a PRNG key\n",
    "key = jax.random.PRNGKey(np.random.randint(0,10**6))\n",
    "\n",
    "# Initialize parameters\n",
    "params = model.init(key,  jm.complex_numbers.complex_to_real(points[1]))\n",
    "\n",
    "kappa_val = jm.metrics.kappa(proj_facts,k_mod, poly, points)\n",
    "\n",
    "print(kappa_val)"
   ]
  },
  {
   "cell_type": "code",
   "execution_count": 5,
   "metadata": {},
   "outputs": [],
   "source": [
    "with open(\"params.pkl\", \"wb\") as f:\n",
    "    pickle.dump(params, f)"
   ]
  },
  {
   "cell_type": "code",
   "execution_count": 6,
   "metadata": {},
   "outputs": [
    {
     "name": "stdout",
     "output_type": "stream",
     "text": [
      "(64, 5) 1250\n",
      "(5,) 20001\n"
     ]
    }
   ],
   "source": [
    "# Split points into training and evaluation sets\n",
    "split_ratio = 0.8\n",
    "split_index = int(len(points) * split_ratio)\n",
    "train_points = points[:split_index]\n",
    "eval_points = points[split_index:]\n",
    "\n",
    "def batch_data(data, batch_size):\n",
    "    num_batches = len(data) // batch_size\n",
    "    return jnp.array_split(data[:num_batches * batch_size], num_batches)\n",
    "\n",
    "ptsBatched = batch_data(train_points, 64)\n",
    "\n",
    "print(ptsBatched[0].shape,len(ptsBatched))\n",
    "print(eval_points[0].shape,len(eval_points))"
   ]
  },
  {
   "cell_type": "code",
   "execution_count": 7,
   "metadata": {},
   "outputs": [],
   "source": [
    "def replace_nan_grads(gradients, replacement_value=1e-8):\n",
    "    def replace(grad):\n",
    "        return jnp.where(jnp.isnan(grad), replacement_value, grad)\n",
    "    \n",
    "    return jax.tree_util.tree_map(replace, gradients)\n",
    "\n",
    "def nan_replacement_transform(replacement_value=1e-6):\n",
    "    def init_fn(params):\n",
    "        return ()\n",
    "    \n",
    "    def update_fn(updates, state, params=None):\n",
    "        sanitized_updates = jax.tree_util.tree_map(\n",
    "            lambda g: jnp.where(jnp.isnan(g), replacement_value, g),\n",
    "            updates\n",
    "        )\n",
    "        return sanitized_updates, state\n",
    "    \n",
    "    return optax.GradientTransformation(init_fn, update_fn)\n",
    "\n",
    "optimiser = optax.chain(\n",
    "optax.clip(0.1),\n",
    "#soap(learning_rate=1e-6),\n",
    "#optax.clip_by_block_rms(1e-2),\n",
    "optax.adam(learning_rate=1e-3),\n",
    "#nan_replacement_transform(1e-8)\n",
    ")\n",
    "\n",
    "my_state = train_state.TrainState.create(\n",
    "    apply_fn=model.apply,\n",
    "    params=params,\n",
    "    tx=optimiser)\n",
    "\n",
    "grad_func = jax.jit(jax.value_and_grad(jm.losses.loss_ma,argnums=1),static_argnums=(0,2,4))\n",
    "\n",
    "# Define the training step\n",
    "@jax.jit\n",
    "def train_step(state,x):\n",
    "  loss, grads = grad_func(model, state.params,proj_facts,k_mod, poly,  kappa_val, x)\n",
    "  state = state.apply_gradients(grads=grads)\n",
    "  return state, loss\n",
    "\n",
    "@jax.jit\n",
    "def evaluate_step(state,x,scalar_num=100):\n",
    "  loss = jm.losses.loss_ma(model, state.params,proj_facts,k_mod, poly, kappa_val, x)\n",
    "  #sigma = jm.losses.sigma_measure(model, state.params,proj_facts,k_mod, poly, kappa_val, x)\n",
    "  #scalar =  jnp.mean(jnp.abs(jm.metrics.ricci_scalar(model, state.params, proj_facts, k_mod, poly, x[:scalar_num])))\n",
    "  return loss #, sigma, scalar"
   ]
  },
  {
   "cell_type": "code",
   "execution_count": 8,
   "metadata": {},
   "outputs": [
    {
     "name": "stderr",
     "output_type": "stream",
     "text": [
      "Last Eval Loss 0.00707660848274827 | Batch 750/1251  | Batch Loss: 0.007574032060801983:  28%|██▊       | 14/50 [04:19<11:06, 18.50s/it]   \n"
     ]
    },
    {
     "ename": "KeyboardInterrupt",
     "evalue": "",
     "output_type": "error",
     "traceback": [
      "\u001b[0;31m---------------------------------------------------------------------------\u001b[0m",
      "\u001b[0;31mKeyboardInterrupt\u001b[0m                         Traceback (most recent call last)",
      "Cell \u001b[0;32mIn[8], line 18\u001b[0m\n\u001b[1;32m     16\u001b[0m \u001b[38;5;28;01mfor\u001b[39;00m j \u001b[38;5;129;01min\u001b[39;00m order:\n\u001b[1;32m     17\u001b[0m   k\u001b[38;5;241m+\u001b[39m\u001b[38;5;241m=\u001b[39m\u001b[38;5;241m1\u001b[39m\n\u001b[0;32m---> 18\u001b[0m   my_state, l \u001b[38;5;241m=\u001b[39m \u001b[43mtrain_step\u001b[49m\u001b[43m(\u001b[49m\u001b[43mmy_state\u001b[49m\u001b[43m,\u001b[49m\u001b[43m \u001b[49m\u001b[43mptsBatched\u001b[49m\u001b[43m[\u001b[49m\u001b[43mj\u001b[49m\u001b[43m]\u001b[49m\u001b[43m)\u001b[49m\n\u001b[1;32m     19\u001b[0m   \u001b[38;5;28;01mif\u001b[39;00m k \u001b[38;5;241m%\u001b[39m \u001b[38;5;241m10\u001b[39m \u001b[38;5;241m==\u001b[39m \u001b[38;5;241m0\u001b[39m:\n\u001b[1;32m     20\u001b[0m     pbar\u001b[38;5;241m.\u001b[39mset_description(\u001b[38;5;124mf\u001b[39m\u001b[38;5;124m\"\u001b[39m\u001b[38;5;124mLast Eval Loss \u001b[39m\u001b[38;5;132;01m{\u001b[39;00m\u001b[38;5;28meval\u001b[39m\u001b[38;5;132;01m}\u001b[39;00m\u001b[38;5;124m | Batch \u001b[39m\u001b[38;5;132;01m{\u001b[39;00mk\u001b[38;5;132;01m}\u001b[39;00m\u001b[38;5;124m/\u001b[39m\u001b[38;5;132;01m{\u001b[39;00mbatchNum\u001b[38;5;241m+\u001b[39m\u001b[38;5;241m1\u001b[39m\u001b[38;5;132;01m}\u001b[39;00m\u001b[38;5;124m  | Batch Loss: \u001b[39m\u001b[38;5;132;01m{\u001b[39;00ml\u001b[38;5;132;01m}\u001b[39;00m\u001b[38;5;124m\"\u001b[39m )\n",
      "File \u001b[0;32m<string>:1\u001b[0m, in \u001b[0;36m<lambda>\u001b[0;34m(_cls)\u001b[0m\n",
      "\u001b[0;31mKeyboardInterrupt\u001b[0m: "
     ]
    }
   ],
   "source": [
    "# Train the model\n",
    "#eval, sig, scal = evaluate_step(my_state,eval_points)\n",
    "eval = evaluate_step(my_state,eval_points)\n",
    "loss = []\n",
    "lossEval = [[0,eval]]\n",
    "#sigma = [[0,sig]]\n",
    "#scalar = [[0,scal]]\n",
    "pbar = tqdm(range(10))\n",
    "batchNum = len(ptsBatched)\n",
    "pbar.set_description(f\"Last Eval Loss {eval} | Batch {0}/{batchNum+1}  | Batch Loss: NA\")\n",
    "\n",
    "for i in pbar:\n",
    "  order = np.array(range(batchNum))\n",
    "  np.random.shuffle(order)\n",
    "  k=1\n",
    "  for j in order:\n",
    "    k+=1\n",
    "    my_state, l = train_step(my_state, ptsBatched[j])\n",
    "    if k % 10 == 0:\n",
    "      pbar.set_description(f\"Last Eval Loss {eval} | Batch {k}/{batchNum+1}  | Batch Loss: {l}\" )\n",
    "    loss.append(l)\n",
    "  #eval, sig, scal = evaluate_step(my_state,eval_points)\n",
    "  eval = evaluate_step(my_state,eval_points)\n",
    "  lossEval.append([(i+1)*batchNum,eval])\n",
    "  #sigma.append([(i+1)*batchNum,sig])\n",
    "  #scalar.append([(i+1)*batchNum,scal])\n",
    "\n",
    "lossEval = np.array(lossEval)\n",
    "loss = jnp.array(loss)"
   ]
  },
  {
   "cell_type": "code",
   "execution_count": 9,
   "metadata": {},
   "outputs": [],
   "source": [
    "lossEval=jnp.array(lossEval)\n",
    "loss = jnp.array(loss)\n",
    "#sigma = jnp.array(sigma)\n",
    "#scalar = jnp.array(scalar)"
   ]
  },
  {
   "cell_type": "code",
   "execution_count": 10,
   "metadata": {},
   "outputs": [
    {
     "data": {
      "image/png": "[encoded data removed]",
      "text/plain": [
       "<Figure size 640x480 with 1 Axes>"
      ]
     },
     "metadata": {},
     "output_type": "display_data"
    }
   ],
   "source": [
    "plt.plot(loss, label='Training Loss')\n",
    "plt.plot(lossEval[:,0], lossEval[:,1], label='Evaluation Loss')\n",
    "#plt.plot(sigma[:,0], sigma[:,1], label='Sigma')\n",
    "#plt.plot(scalar[:,0], scalar[:,1], label='Scalar')\n",
    "plt.xscale('log')\n",
    "plt.yscale('log')\n",
    "plt.legend()\n",
    "plt.show()"
   ]
  },
  {
   "cell_type": "code",
   "execution_count": null,
   "metadata": {},
   "outputs": [
    {
     "name": "stderr",
     "output_type": "stream",
     "text": [
      "  0%|          | 0/100 [00:00<?, ?it/s]"
     ]
    }
   ],
   "source": [
    "scals = [jm.metrics.ricci_scalar(model, my_state.params, proj_facts, k_mod, poly, ptsBatched[n]).real for n in tqdm(range(100))]\n",
    "scals = jnp.array(scals).flatten()"
   ]
  },
  {
   "cell_type": "code",
   "execution_count": null,
   "metadata": {},
   "outputs": [
    {
     "data": {
      "text/plain": [
       "(array([1.000e+00, 0.000e+00, 0.000e+00, 0.000e+00, 0.000e+00, 0.000e+00,\n",
       "        0.000e+00, 0.000e+00, 0.000e+00, 0.000e+00, 0.000e+00, 0.000e+00,\n",
       "        0.000e+00, 0.000e+00, 0.000e+00, 0.000e+00, 1.000e+00, 0.000e+00,\n",
       "        0.000e+00, 0.000e+00, 0.000e+00, 0.000e+00, 0.000e+00, 0.000e+00,\n",
       "        0.000e+00, 0.000e+00, 0.000e+00, 0.000e+00, 0.000e+00, 0.000e+00,\n",
       "        0.000e+00, 0.000e+00, 0.000e+00, 0.000e+00, 1.000e+00, 0.000e+00,\n",
       "        0.000e+00, 1.000e+00, 3.700e+01, 1.231e+03, 1.881e+03, 1.543e+03,\n",
       "        9.120e+02, 4.410e+02, 2.090e+02, 7.700e+01, 3.800e+01, 1.500e+01,\n",
       "        1.000e+01, 2.000e+00]),\n",
       " array([-584.1730957 , -570.10882568, -556.0446167 , -541.98034668,\n",
       "        -527.9161377 , -513.85186768, -499.78762817, -485.72338867,\n",
       "        -471.65911865, -457.59487915, -443.53063965, -429.46640015,\n",
       "        -415.40216064, -401.33792114, -387.27365112, -373.20941162,\n",
       "        -359.14517212, -345.08093262, -331.01669312, -316.9524231 ,\n",
       "        -302.88818359, -288.82394409, -274.75970459, -260.69546509,\n",
       "        -246.63121033, -232.56695557, -218.50271606, -204.43847656,\n",
       "        -190.3742218 , -176.3099823 , -162.2457428 , -148.18148804,\n",
       "        -134.11724854, -120.0530014 , -105.98875427,  -91.92450714,\n",
       "         -77.86026764,  -63.79602051,  -49.73177338,  -35.66753006,\n",
       "         -21.60328293,   -7.53903818,    6.52520704,   20.58945274,\n",
       "          34.65369797,   48.71794128,   62.78218842,   76.84643555,\n",
       "          90.91067505,  104.97492218,  119.03916931]),\n",
       " <BarContainer object of 50 artists>)"
      ]
     },
     "execution_count": 16,
     "metadata": {},
     "output_type": "execute_result"
    },
    {
     "data": {
      "image/png": "[encoded data removed]",
      "text/plain": [
       "<Figure size 640x480 with 1 Axes>"
      ]
     },
     "metadata": {},
     "output_type": "display_data"
    }
   ],
   "source": [
    "plt.hist(scals,bins=50)"
   ]
  },
  {
   "cell_type": "code",
   "execution_count": null,
   "metadata": {},
   "outputs": [],
   "source": []
  }
 ],
 "metadata": {
  "kernelspec": {
   "display_name": "jaxVenv",
   "language": "python",
   "name": "jaxvenv"
  },
  "language_info": {
   "codemirror_mode": {
    "name": "ipython",
    "version": 3
   },
   "file_extension": ".py",
   "mimetype": "text/x-python",
   "name": "python",
   "nbconvert_exporter": "python",
   "pygments_lexer": "ipython3",
   "version": "3.11.10"
  }
 },
 "nbformat": 4,
 "nbformat_minor": 2
}
